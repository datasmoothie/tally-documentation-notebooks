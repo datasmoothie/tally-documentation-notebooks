{
 "cells": [
  {
   "cell_type": "markdown",
   "metadata": {},
   "source": [
    "# 4. Weight data\n",
    "\n",
    "We imagine that census data shows us that in the population are surveying, the distribution between gender, age groups, and where people live, is\n",
    "\n",
    "- Gender: 51% women, 49% men.\n",
    "- Location: 17.1% in rural areas, 82.9% in densely populated areas.\n",
    "\n",
    "We want our survey to represent these groups correctly, so we weight the data.\n"
   ]
  },
  {
   "cell_type": "code",
   "execution_count": null,
   "metadata": {
    "tags": [
     "remove-cell"
    ]
   },
   "outputs": [],
   "source": [
    "#\n",
    "# In order to run this notebook, you first have to install Tally. To install tally you need a token that gives you access.\n",
    "#\n",
    "from google.colab import files\n",
    "import json\n",
    "import io\n",
    "import os\n",
    "# Check if the file 'tally_keys.json' exists\n",
    "if not os.path.exists('tally_keys.json'):\n",
    "  uploaded = files.upload()\n",
    "  # Assuming only one file is uploaded, get its filename and content\n",
    "  filename = list(uploaded.keys())[0]\n",
    "  file_content = uploaded[filename]\n",
    "  # Load JSON directly from the uploaded content\n",
    "  keys = json.loads(file_content.decode('utf-8'))\n",
    "else:\n",
    "  # If the file already exists, just load its content\n",
    "  with open('tally_keys.json', 'r') as f:\n",
    "      keys = json.load(f)\n",
    "\n",
    "try:\n",
    "  # Try to import the package\n",
    "  import example_package\n",
    "except ImportError:\n",
    "  # If the import fails, the package is not installed. Install it.\n",
    "  !pip install git+https://{keys['tally_api']}@github.com/datasmoothie/tally-core.git@master"
   ]
  },
  {
   "cell_type": "code",
   "execution_count": 1,
   "metadata": {
    "tags": [
     "hide-cell"
    ]
   },
   "outputs": [],
   "source": [
    "import tally_core as tc\n",
    "import pandas as pd\n",
    "import json\n",
    "dataset = tc.DataSet('Museum')\n",
    "\n",
    "dataset = tc.DataSet(\"Sports stores\")\n",
    "meta = json.load(open('./data/Example Data (A).json'))\n",
    "data = pd.read_parquet('./data/Example Data (A).parquet')\n",
    "dataset.from_components(meta_dict=meta, data_df=data)"
   ]
  },
  {
   "cell_type": "markdown",
   "metadata": {},
   "source": [
    "Our data doesn't match the census data in that we have more localities than two and we have a numerical variable for age. We fix this by creating a variable with `DataSet.derive` from the localities."
   ]
  },
  {
   "cell_type": "code",
   "execution_count": 2,
   "metadata": {},
   "outputs": [],
   "source": [
    "dataset.derive(name=\"urban_rural\", label=\"Urban/rural\", qtype=\"single\", cond_map=[\n",
    "        (2, \"Rural/remote\", {'locality': [4,5]}),\n",
    "        (1, \"Urban/sub-urban\", {'locality': [1,2,3]}),\n",
    "])"
   ]
  },
  {
   "cell_type": "markdown",
   "metadata": {},
   "source": [
    "# Run the weight algorithm\n",
    "Now that we have the variables we need, we create a `Rim` object and set our weithting targets."
   ]
  },
  {
   "cell_type": "code",
   "execution_count": 3,
   "metadata": {},
   "outputs": [],
   "source": [
    "from tally_core.core.weights.rim import Rim\n",
    "\n",
    "gender_targets = {'gender':{1:49, 2:51}}\n",
    "locality_targets = {'urban_rural':{1:82.9 , 2:17.1}}\n",
    "\n",
    "scheme = Rim('gender_age_locality')\n",
    "scheme.set_targets(targets=[gender_targets, locality_targets])"
   ]
  },
  {
   "cell_type": "markdown",
   "metadata": {},
   "source": [
    "We run the algorithm with `DataSet.weight`. Unless we set the parameter `report` to `False`, a weight report is printed to screen."
   ]
  },
  {
   "cell_type": "code",
   "execution_count": 4,
   "metadata": {},
   "outputs": [
    {
     "name": "stdout",
     "output_type": "stream",
     "text": [
      "*** Warning: Scheme \"gender_age_locality\", group \"_default_name_\" ***\n",
      "np.NaN found in weight variables:\n",
      "gender           0\n",
      "urban_rural    177\n",
      "dtype: int64\n",
      "Please check if weighted results are acceptable!\n",
      "\n",
      "Weight variable       weights_gender_age_locality\n",
      "Weight group                       _default_name_\n",
      "Weight filter                                None\n",
      "Total: unweighted                     8255.000000\n",
      "Total: weighted                       8255.000000\n",
      "Weighting efficiency                    99.696868\n",
      "Iterations required                     16.000000\n",
      "Mean weight factor                       1.000000\n",
      "Minimum weight factor                    0.877281\n",
      "Maximum weight factor                    1.046117\n",
      "Weight factor ratio                      1.192454\n",
      "\n"
     ]
    }
   ],
   "source": [
    "weight = dataset.weight(\n",
    "        weight_name='weight_c', \n",
    "        unique_key='unique_id',\n",
    "        weight_scheme=scheme\n",
    ")"
   ]
  },
  {
   "cell_type": "markdown",
   "metadata": {},
   "source": [
    "We've now run the RIM weighting algorithm and created a new variable, `weight_c``. We can run a crosstab to check whether it has worked."
   ]
  },
  {
   "cell_type": "code",
   "execution_count": 5,
   "metadata": {},
   "outputs": [
    {
     "data": {
      "text/html": [
       "<div>\n",
       "<style scoped>\n",
       "    .dataframe tbody tr th:only-of-type {\n",
       "        vertical-align: middle;\n",
       "    }\n",
       "\n",
       "    .dataframe tbody tr th {\n",
       "        vertical-align: top;\n",
       "    }\n",
       "\n",
       "    .dataframe thead tr th {\n",
       "        text-align: left;\n",
       "    }\n",
       "\n",
       "    .dataframe thead tr:last-of-type th {\n",
       "        text-align: right;\n",
       "    }\n",
       "</style>\n",
       "<table border=\"1\" class=\"dataframe\">\n",
       "  <thead>\n",
       "    <tr>\n",
       "      <th></th>\n",
       "      <th>Question</th>\n",
       "      <th colspan=\"2\" halign=\"left\">Total</th>\n",
       "    </tr>\n",
       "    <tr>\n",
       "      <th></th>\n",
       "      <th>Values</th>\n",
       "      <th>Unweighted</th>\n",
       "      <th>Weighted</th>\n",
       "    </tr>\n",
       "    <tr>\n",
       "      <th>Question</th>\n",
       "      <th>Values</th>\n",
       "      <th></th>\n",
       "      <th></th>\n",
       "    </tr>\n",
       "  </thead>\n",
       "  <tbody>\n",
       "    <tr>\n",
       "      <th rowspan=\"3\" valign=\"top\">gender. What is your gender?</th>\n",
       "      <th>Base</th>\n",
       "      <td>8255.0</td>\n",
       "      <td>8255.0</td>\n",
       "    </tr>\n",
       "    <tr>\n",
       "      <th>Male</th>\n",
       "      <td>47.9</td>\n",
       "      <td>48.9</td>\n",
       "    </tr>\n",
       "    <tr>\n",
       "      <th>Female</th>\n",
       "      <td>52.1</td>\n",
       "      <td>51.1</td>\n",
       "    </tr>\n",
       "    <tr>\n",
       "      <th rowspan=\"3\" valign=\"top\">urban_rural. Urban/rural</th>\n",
       "      <th>Base</th>\n",
       "      <td>8078.0</td>\n",
       "      <td>8078.0</td>\n",
       "    </tr>\n",
       "    <tr>\n",
       "      <th>Rural/remote</th>\n",
       "      <td>19.2</td>\n",
       "      <td>17.1</td>\n",
       "    </tr>\n",
       "    <tr>\n",
       "      <th>Urban/sub-urban</th>\n",
       "      <td>80.8</td>\n",
       "      <td>82.9</td>\n",
       "    </tr>\n",
       "  </tbody>\n",
       "</table>\n",
       "</div>"
      ],
      "text/plain": [
       "Question                                          Total         \n",
       "Values                                       Unweighted Weighted\n",
       "Question                     Values                             \n",
       "gender. What is your gender? Base                8255.0   8255.0\n",
       "                             Male                  47.9     48.9\n",
       "                             Female                52.1     51.1\n",
       "urban_rural. Urban/rural     Base                8078.0   8078.0\n",
       "                             Rural/remote          19.2     17.1\n",
       "                             Urban/sub-urban       80.8     82.9"
      ]
     },
     "execution_count": 5,
     "metadata": {},
     "output_type": "execute_result"
    }
   ],
   "source": [
    "weighted = dataset.crosstab(\n",
    "        x=['gender', 'urban_rural'], \n",
    "        ci=['c%'], \n",
    "        w='weight_c').rename(columns={\"Total\":\"Weighted\"}, level=1)\n",
    "\n",
    "unweighted = dataset.crosstab(\n",
    "        x=['gender', 'urban_rural'], \n",
    "        ci=['c%']).rename(columns={\"Total\":\"Unweighted\"}, level=1)\n",
    "\n",
    "pd.concat([unweighted, weighted], axis=1)"
   ]
  },
  {
   "cell_type": "markdown",
   "metadata": {},
   "source": [
    "We run one crosstab with the weight applied and another with no weight, combine the two into one dataframe with `pandas.concat` and compare. We can see that the percentage distribution of the weighted data meets our targets."
   ]
  },
  {
   "cell_type": "markdown",
   "metadata": {},
   "source": []
  }
 ],
 "metadata": {
  "kernelspec": {
   "display_name": ".venv",
   "language": "python",
   "name": "python3"
  },
  "language_info": {
   "codemirror_mode": {
    "name": "ipython",
    "version": 3
   },
   "file_extension": ".py",
   "mimetype": "text/x-python",
   "name": "python",
   "nbconvert_exporter": "python",
   "pygments_lexer": "ipython3",
   "version": "3.9.2"
  },
  "orig_nbformat": 4
 },
 "nbformat": 4,
 "nbformat_minor": 2
}
