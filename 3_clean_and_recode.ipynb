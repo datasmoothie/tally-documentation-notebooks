{
 "cells": [
  {
   "cell_type": "code",
   "execution_count": null,
   "metadata": {
    "tags": [
     "remove-cell"
    ]
   },
   "outputs": [],
   "source": [
    "#\n",
    "# In order to run this notebook, you first have to install Tally. To install tally you need a token that gives you access.\n",
    "#\n",
    "from google.colab import files\n",
    "import json\n",
    "import io\n",
    "import os\n",
    "# Check if the file 'tally_keys.json' exists\n",
    "if not os.path.exists('tally_keys.json'):\n",
    "  uploaded = files.upload()\n",
    "  # Assuming only one file is uploaded, get its filename and content\n",
    "  filename = list(uploaded.keys())[0]\n",
    "  file_content = uploaded[filename]\n",
    "  # Load JSON directly from the uploaded content\n",
    "  keys = json.loads(file_content.decode('utf-8'))\n",
    "else:\n",
    "  # If the file already exists, just load its content\n",
    "  with open('tally_keys.json', 'r') as f:\n",
    "      keys = json.load(f)\n",
    "\n",
    "try:\n",
    "  # Try to import the package\n",
    "  import example_package\n",
    "except ImportError:\n",
    "  # If the import fails, the package is not installed. Install it.\n",
    "  !pip install git+https://{keys['tally_api']}@github.com/datasmoothie/tally-core.git@master"
   ]
  },
  {
   "cell_type": "code",
   "execution_count": 1,
   "metadata": {
    "tags": [
     "hide-cell"
    ]
   },
   "outputs": [],
   "source": [
    "import tally_core as tc\n",
    "import pandas as pd\n",
    "import json\n",
    "\n",
    "dataset = tc.DataSet(\"Sports stores\")\n",
    "meta = json.load(open('./data/Example Data (A).json'))\n",
    "data = pd.read_parquet('./data/Example Data (A).parquet')\n",
    "dataset.from_components(meta_dict=meta, data_df=data)"
   ]
  },
  {
   "cell_type": "markdown",
   "metadata": {},
   "source": [
    "# 3. Clean and recode data\n",
    "\n",
    "## Filter\n",
    "When we want to remove certain rows from the dataset, given certain conditions, we use <a href=\"API/DataSet.html#tally_core.DataSet.filter\">`DataSet.filter`</a>. "
   ]
  },
  {
   "cell_type": "code",
   "execution_count": 2,
   "metadata": {},
   "outputs": [],
   "source": [
    "urban_and_suburban = dataset.filter(\n",
    "  alias='urban and suburban', \n",
    "  condition={'locality':[2,3]}\n",
    ")"
   ]
  },
  {
   "cell_type": "markdown",
   "metadata": {},
   "source": [
    "Filter can use complex, nested logic to combine AND and OR arguments along with other logical operators. Refer to the chapter about [Tally's logic operators](tally_logic) to see more on how filters are constructed.\n",
    "\n",
    "For a sanity check, we can examine the crosstab of the variable we used to create the filter."
   ]
  },
  {
   "cell_type": "code",
   "execution_count": 3,
   "metadata": {},
   "outputs": [
    {
     "data": {
      "text/html": [
       "<div>\n",
       "<style scoped>\n",
       "    .dataframe tbody tr th:only-of-type {\n",
       "        vertical-align: middle;\n",
       "    }\n",
       "\n",
       "    .dataframe tbody tr th {\n",
       "        vertical-align: top;\n",
       "    }\n",
       "\n",
       "    .dataframe thead tr th {\n",
       "        text-align: left;\n",
       "    }\n",
       "\n",
       "    .dataframe thead tr:last-of-type th {\n",
       "        text-align: right;\n",
       "    }\n",
       "</style>\n",
       "<table border=\"1\" class=\"dataframe\">\n",
       "  <thead>\n",
       "    <tr>\n",
       "      <th></th>\n",
       "      <th>Question</th>\n",
       "      <th>Total</th>\n",
       "    </tr>\n",
       "    <tr>\n",
       "      <th></th>\n",
       "      <th>Values</th>\n",
       "      <th>Total</th>\n",
       "    </tr>\n",
       "    <tr>\n",
       "      <th>Question</th>\n",
       "      <th>Values</th>\n",
       "      <th></th>\n",
       "    </tr>\n",
       "  </thead>\n",
       "  <tbody>\n",
       "    <tr>\n",
       "      <th rowspan=\"6\" valign=\"top\">locality. How would you describe the areas in which you live?</th>\n",
       "      <th>Base</th>\n",
       "      <td>8078.0</td>\n",
       "    </tr>\n",
       "    <tr>\n",
       "      <th>CBD (central business district)</th>\n",
       "      <td>3106.0</td>\n",
       "    </tr>\n",
       "    <tr>\n",
       "      <th>Urban</th>\n",
       "      <td>2245.0</td>\n",
       "    </tr>\n",
       "    <tr>\n",
       "      <th>Suburban</th>\n",
       "      <td>1180.0</td>\n",
       "    </tr>\n",
       "    <tr>\n",
       "      <th>Rural</th>\n",
       "      <td>718.0</td>\n",
       "    </tr>\n",
       "    <tr>\n",
       "      <th>Remote</th>\n",
       "      <td>829.0</td>\n",
       "    </tr>\n",
       "  </tbody>\n",
       "</table>\n",
       "</div>"
      ],
      "text/plain": [
       "Question                                                                             Total\n",
       "Values                                                                               Total\n",
       "Question                                           Values                                 \n",
       "locality. How would you describe the areas in w... Base                             8078.0\n",
       "                                                   CBD (central business district)  3106.0\n",
       "                                                   Urban                            2245.0\n",
       "                                                   Suburban                         1180.0\n",
       "                                                   Rural                             718.0\n",
       "                                                   Remote                            829.0"
      ]
     },
     "execution_count": 3,
     "metadata": {},
     "output_type": "execute_result"
    },
    {
     "data": {
      "text/html": [
       "<div>\n",
       "<style scoped>\n",
       "    .dataframe tbody tr th:only-of-type {\n",
       "        vertical-align: middle;\n",
       "    }\n",
       "\n",
       "    .dataframe tbody tr th {\n",
       "        vertical-align: top;\n",
       "    }\n",
       "\n",
       "    .dataframe thead tr th {\n",
       "        text-align: left;\n",
       "    }\n",
       "\n",
       "    .dataframe thead tr:last-of-type th {\n",
       "        text-align: right;\n",
       "    }\n",
       "</style>\n",
       "<table border=\"1\" class=\"dataframe\">\n",
       "  <thead>\n",
       "    <tr>\n",
       "      <th></th>\n",
       "      <th>Question</th>\n",
       "      <th>Total</th>\n",
       "    </tr>\n",
       "    <tr>\n",
       "      <th></th>\n",
       "      <th>Values</th>\n",
       "      <th>Total</th>\n",
       "    </tr>\n",
       "    <tr>\n",
       "      <th>Question</th>\n",
       "      <th>Values</th>\n",
       "      <th></th>\n",
       "    </tr>\n",
       "  </thead>\n",
       "  <tbody>\n",
       "    <tr>\n",
       "      <th rowspan=\"6\" valign=\"top\">locality. How would you describe the areas in which you live?</th>\n",
       "      <th>Base</th>\n",
       "      <td>3425.0</td>\n",
       "    </tr>\n",
       "    <tr>\n",
       "      <th>CBD (central business district)</th>\n",
       "      <td>0.0</td>\n",
       "    </tr>\n",
       "    <tr>\n",
       "      <th>Urban</th>\n",
       "      <td>2245.0</td>\n",
       "    </tr>\n",
       "    <tr>\n",
       "      <th>Suburban</th>\n",
       "      <td>1180.0</td>\n",
       "    </tr>\n",
       "    <tr>\n",
       "      <th>Rural</th>\n",
       "      <td>0.0</td>\n",
       "    </tr>\n",
       "    <tr>\n",
       "      <th>Remote</th>\n",
       "      <td>0.0</td>\n",
       "    </tr>\n",
       "  </tbody>\n",
       "</table>\n",
       "</div>"
      ],
      "text/plain": [
       "Question                                                                             Total\n",
       "Values                                                                               Total\n",
       "Question                                           Values                                 \n",
       "locality. How would you describe the areas in w... Base                             3425.0\n",
       "                                                   CBD (central business district)     0.0\n",
       "                                                   Urban                            2245.0\n",
       "                                                   Suburban                         1180.0\n",
       "                                                   Rural                               0.0\n",
       "                                                   Remote                              0.0"
      ]
     },
     "execution_count": 3,
     "metadata": {},
     "output_type": "execute_result"
    }
   ],
   "source": [
    "dataset.crosstab('locality')\n",
    "urban_and_suburban.crosstab('locality')"
   ]
  },
  {
   "cell_type": "markdown",
   "metadata": {},
   "source": [
    ":::{warning}\n",
    "By default, the `filter` method returns a new dataset with the result of the filter. For large datasets, this can consume lots of memory and can sometimes make the difference of your data processing script running smoothly and running out of memory. Setting the parameter `inplace` to `True` will instead modify the dataset currently in memory. The `filter` method should not be overused as filters can be passed into those functions that need to operate on a subset of the data.\n",
    ":::"
   ]
  },
  {
   "cell_type": "markdown",
   "metadata": {},
   "source": [
    "\n",
    "\n",
    "\n",
    "\n",
    "## Recode\n",
    "Recoding can help with tasks such as cleaning, modifying or correcting data. \n",
    "\n",
    "For example, if we want to recode `locality` so that people who live in Central Business Districs are counted as living in Urban areas, we construct our recode logic so that the logical expression `{'locality':[1]}` gets the code 2."
   ]
  },
  {
   "cell_type": "code",
   "execution_count": 4,
   "metadata": {},
   "outputs": [],
   "source": [
    "recode_logic = {\n",
    "  2: {'locality': 1}\n",
    "}\n",
    "dataset.recode('locality', recode_logic)"
   ]
  },
  {
   "cell_type": "markdown",
   "metadata": {},
   "source": [
    "Then we use `crosstab` to check our results."
   ]
  },
  {
   "cell_type": "code",
   "execution_count": 5,
   "metadata": {},
   "outputs": [
    {
     "data": {
      "text/html": [
       "<div>\n",
       "<style scoped>\n",
       "    .dataframe tbody tr th:only-of-type {\n",
       "        vertical-align: middle;\n",
       "    }\n",
       "\n",
       "    .dataframe tbody tr th {\n",
       "        vertical-align: top;\n",
       "    }\n",
       "\n",
       "    .dataframe thead tr th {\n",
       "        text-align: left;\n",
       "    }\n",
       "\n",
       "    .dataframe thead tr:last-of-type th {\n",
       "        text-align: right;\n",
       "    }\n",
       "</style>\n",
       "<table border=\"1\" class=\"dataframe\">\n",
       "  <thead>\n",
       "    <tr>\n",
       "      <th></th>\n",
       "      <th>Question</th>\n",
       "      <th>Total</th>\n",
       "    </tr>\n",
       "    <tr>\n",
       "      <th></th>\n",
       "      <th>Values</th>\n",
       "      <th>Total</th>\n",
       "    </tr>\n",
       "    <tr>\n",
       "      <th>Question</th>\n",
       "      <th>Values</th>\n",
       "      <th></th>\n",
       "    </tr>\n",
       "  </thead>\n",
       "  <tbody>\n",
       "    <tr>\n",
       "      <th rowspan=\"6\" valign=\"top\">locality. How would you describe the areas in which you live?</th>\n",
       "      <th>Base</th>\n",
       "      <td>8078.0</td>\n",
       "    </tr>\n",
       "    <tr>\n",
       "      <th>CBD (central business district)</th>\n",
       "      <td>0.0</td>\n",
       "    </tr>\n",
       "    <tr>\n",
       "      <th>Urban</th>\n",
       "      <td>5351.0</td>\n",
       "    </tr>\n",
       "    <tr>\n",
       "      <th>Suburban</th>\n",
       "      <td>1180.0</td>\n",
       "    </tr>\n",
       "    <tr>\n",
       "      <th>Rural</th>\n",
       "      <td>718.0</td>\n",
       "    </tr>\n",
       "    <tr>\n",
       "      <th>Remote</th>\n",
       "      <td>829.0</td>\n",
       "    </tr>\n",
       "  </tbody>\n",
       "</table>\n",
       "</div>"
      ],
      "text/plain": [
       "Question                                                                             Total\n",
       "Values                                                                               Total\n",
       "Question                                           Values                                 \n",
       "locality. How would you describe the areas in w... Base                             8078.0\n",
       "                                                   CBD (central business district)     0.0\n",
       "                                                   Urban                            5351.0\n",
       "                                                   Suburban                         1180.0\n",
       "                                                   Rural                             718.0\n",
       "                                                   Remote                            829.0"
      ]
     },
     "execution_count": 5,
     "metadata": {},
     "output_type": "execute_result"
    }
   ],
   "source": [
    "dataset.crosstab('locality')"
   ]
  },
  {
   "cell_type": "code",
   "execution_count": null,
   "metadata": {},
   "outputs": [],
   "source": []
  }
 ],
 "metadata": {
  "kernelspec": {
   "display_name": ".venv",
   "language": "python",
   "name": "python3"
  },
  "language_info": {
   "codemirror_mode": {
    "name": "ipython",
    "version": 3
   },
   "file_extension": ".py",
   "mimetype": "text/x-python",
   "name": "python",
   "nbconvert_exporter": "python",
   "pygments_lexer": "ipython3",
   "version": "3.9.2"
  },
  "orig_nbformat": 4
 },
 "nbformat": 4,
 "nbformat_minor": 2
}
