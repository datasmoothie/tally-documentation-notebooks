{
 "cells": [
  {
   "cell_type": "code",
   "execution_count": 1,
   "metadata": {
    "tags": [
     "hide-cell"
    ]
   },
   "outputs": [],
   "source": [
    "import tally_core as tc\n",
    "import json\n",
    "from pprint import pprint\n",
    "dataset = tc.DataSet(\"Museums\")"
   ]
  },
  {
   "cell_type": "markdown",
   "metadata": {},
   "source": [
    "# Data and meta-data structure\n",
    "\n",
    "The main object of Tally is the `tally_core.DataSet`. This represents the data from a survey.\n",
    "\n",
    "Tally builds upon the `pandas` library. Case-data is represented\n",
    "by a `pandas.DataFrame` and each column is a `pandas.Series`. The native\n",
    "format for Tally to save this data is a parquet file.\n",
    "\n",
    "Tally defines its own meta-data schema to describe the data columns\n",
    "and provide additional information on the underlying structure of the data.\n",
    "The meta-data is represented as a nested `dict` and saved as a json file.\n",
    "\n",
    "We refer to the parquet/json combination as the Tally General Variable Notation (gvn).\n",
    "\n",
    "The data and meta-data are stored in private variables called `DataSet._meta` and `DataSet._data`.\n",
    "\n",
    "| variable name      | stored in memory  | stored on file | \n",
    "----------     |  ----------| ----- |\n",
    "| `DataSet._meta`| Python dict | json |\n",
    "| `DataSet._data`| pandas.DataFrame | parquet |\n"
   ]
  },
  {
   "cell_type": "markdown",
   "metadata": {},
   "source": [
    "We have already converted our data file, the standard Museum example data file from Dimensions, into a gvn file."
   ]
  },
  {
   "cell_type": "code",
   "execution_count": 2,
   "metadata": {},
   "outputs": [],
   "source": [
    "dataset.read_gvn(\"./data/Example_Museum.json\", \"./data/Example_Museum.parquet\")"
   ]
  },
  {
   "cell_type": "markdown",
   "metadata": {},
   "source": [
    "## The case-data dataframe\n",
    "The case-data is stored in a variable called `_data` but we can retreive the dataframe with the `DataSet.data` method.\n"
   ]
  },
  {
   "cell_type": "code",
   "execution_count": 3,
   "metadata": {},
   "outputs": [
    {
     "data": {
      "text/html": [
       "<div>\n",
       "<style scoped>\n",
       "    .dataframe tbody tr th:only-of-type {\n",
       "        vertical-align: middle;\n",
       "    }\n",
       "\n",
       "    .dataframe tbody tr th {\n",
       "        vertical-align: top;\n",
       "    }\n",
       "\n",
       "    .dataframe thead th {\n",
       "        text-align: right;\n",
       "    }\n",
       "</style>\n",
       "<table border=\"1\" class=\"dataframe\">\n",
       "  <thead>\n",
       "    <tr style=\"text-align: right;\">\n",
       "      <th></th>\n",
       "      <th>id_HDATA</th>\n",
       "      <th>Respondent.Serial</th>\n",
       "      <th>DataCollection.Status</th>\n",
       "      <th>DataCollection.StartTime</th>\n",
       "      <th>DataCollection.FinishTime</th>\n",
       "      <th>DataCollection.RoutingContext</th>\n",
       "      <th>address</th>\n",
       "      <th>age</th>\n",
       "      <th>before</th>\n",
       "      <th>biology</th>\n",
       "      <th>...</th>\n",
       "      <th>rating_ent[{whales}].Column</th>\n",
       "      <th>rating_ent[{mammals}].Column</th>\n",
       "      <th>rating_ent[{minerals}].Column</th>\n",
       "      <th>rating_ent[{ecology}].Column</th>\n",
       "      <th>rating_ent[{botany}].Column</th>\n",
       "      <th>rating_ent[{origin_of_species}].Column</th>\n",
       "      <th>rating_ent[{human_biology}].Column</th>\n",
       "      <th>rating_ent[{evolution}].Column</th>\n",
       "      <th>rating_ent[{wildlife_in_danger}].Column</th>\n",
       "      <th>@1</th>\n",
       "    </tr>\n",
       "  </thead>\n",
       "  <tbody>\n",
       "    <tr>\n",
       "      <th>0</th>\n",
       "      <td>1</td>\n",
       "      <td>1</td>\n",
       "      <td>177;</td>\n",
       "      <td>2002-07-19 12:42:30.999</td>\n",
       "      <td>2002-07-19 14:52:31</td>\n",
       "      <td>186</td>\n",
       "      <td>124 Dill Hall Lane, Church Ditton</td>\n",
       "      <td>5</td>\n",
       "      <td>9</td>\n",
       "      <td>10</td>\n",
       "      <td>...</td>\n",
       "      <td>48;</td>\n",
       "      <td>49;</td>\n",
       "      <td>51;</td>\n",
       "      <td>48;</td>\n",
       "      <td>48;</td>\n",
       "      <td>51;</td>\n",
       "      <td>51;</td>\n",
       "      <td>51;</td>\n",
       "      <td>51;</td>\n",
       "      <td>1.0</td>\n",
       "    </tr>\n",
       "    <tr>\n",
       "      <th>1</th>\n",
       "      <td>2</td>\n",
       "      <td>2</td>\n",
       "      <td>177;</td>\n",
       "      <td>2002-07-19 12:42:30.999</td>\n",
       "      <td>2002-07-19 16:52:31</td>\n",
       "      <td>186</td>\n",
       "      <td>22 Southbank Road, Hounslow</td>\n",
       "      <td>4</td>\n",
       "      <td>10</td>\n",
       "      <td>10</td>\n",
       "      <td>...</td>\n",
       "      <td>51;</td>\n",
       "      <td>51;</td>\n",
       "      <td>52;</td>\n",
       "      <td>51;</td>\n",
       "      <td>51;</td>\n",
       "      <td>51;</td>\n",
       "      <td>50;</td>\n",
       "      <td>51;</td>\n",
       "      <td>51;</td>\n",
       "      <td>1.0</td>\n",
       "    </tr>\n",
       "    <tr>\n",
       "      <th>2</th>\n",
       "      <td>3</td>\n",
       "      <td>3</td>\n",
       "      <td>177;</td>\n",
       "      <td>2002-07-19 12:42:30.999</td>\n",
       "      <td>2002-07-19 18:52:31</td>\n",
       "      <td>186</td>\n",
       "      <td>Gatehouse, Church Strarmthorpe</td>\n",
       "      <td>4</td>\n",
       "      <td>10</td>\n",
       "      <td>10</td>\n",
       "      <td>...</td>\n",
       "      <td>51;</td>\n",
       "      <td>48;</td>\n",
       "      <td>48;</td>\n",
       "      <td>51;</td>\n",
       "      <td>48;</td>\n",
       "      <td>51;</td>\n",
       "      <td>50;</td>\n",
       "      <td>51;</td>\n",
       "      <td>52;</td>\n",
       "      <td>1.0</td>\n",
       "    </tr>\n",
       "    <tr>\n",
       "      <th>3</th>\n",
       "      <td>4</td>\n",
       "      <td>4</td>\n",
       "      <td>177;</td>\n",
       "      <td>2002-07-19 12:42:30.999</td>\n",
       "      <td>2002-07-19 20:52:31</td>\n",
       "      <td>186</td>\n",
       "      <td>151 Linacre Road, London SE2</td>\n",
       "      <td>4</td>\n",
       "      <td>9</td>\n",
       "      <td>10</td>\n",
       "      <td>...</td>\n",
       "      <td>48;</td>\n",
       "      <td>48;</td>\n",
       "      <td>51;</td>\n",
       "      <td>48;</td>\n",
       "      <td>48;</td>\n",
       "      <td>51;</td>\n",
       "      <td>48;</td>\n",
       "      <td>51;</td>\n",
       "      <td>48;</td>\n",
       "      <td>1.0</td>\n",
       "    </tr>\n",
       "    <tr>\n",
       "      <th>4</th>\n",
       "      <td>5</td>\n",
       "      <td>5</td>\n",
       "      <td>177;</td>\n",
       "      <td>2002-07-19 12:42:30.999</td>\n",
       "      <td>2002-07-19 22:52:31</td>\n",
       "      <td>186</td>\n",
       "      <td>73 Kings Road, North Ormesby</td>\n",
       "      <td>5</td>\n",
       "      <td>9</td>\n",
       "      <td>10</td>\n",
       "      <td>...</td>\n",
       "      <td>52;</td>\n",
       "      <td>51;</td>\n",
       "      <td>52;</td>\n",
       "      <td>51;</td>\n",
       "      <td>51;</td>\n",
       "      <td>51;</td>\n",
       "      <td>50;</td>\n",
       "      <td>52;</td>\n",
       "      <td>51;</td>\n",
       "      <td>1.0</td>\n",
       "    </tr>\n",
       "  </tbody>\n",
       "</table>\n",
       "<p>5 rows × 116 columns</p>\n",
       "</div>"
      ],
      "text/plain": [
       "   id_HDATA  Respondent.Serial DataCollection.Status DataCollection.StartTime DataCollection.FinishTime  DataCollection.RoutingContext                            address  age  before  biology  ...  rating_ent[{whales}].Column  rating_ent[{mammals}].Column  rating_ent[{minerals}].Column rating_ent[{ecology}].Column  rating_ent[{botany}].Column  rating_ent[{origin_of_species}].Column  rating_ent[{human_biology}].Column  rating_ent[{evolution}].Column  rating_ent[{wildlife_in_danger}].Column   @1\n",
       "0         1                  1                  177;  2002-07-19 12:42:30.999       2002-07-19 14:52:31                            186  124 Dill Hall Lane, Church Ditton    5       9       10  ...                          48;                           49;                            51;                          48;                          48;                                     51;                                 51;                             51;                                      51;  1.0\n",
       "1         2                  2                  177;  2002-07-19 12:42:30.999       2002-07-19 16:52:31                            186        22 Southbank Road, Hounslow    4      10       10  ...                          51;                           51;                            52;                          51;                          51;                                     51;                                 50;                             51;                                      51;  1.0\n",
       "2         3                  3                  177;  2002-07-19 12:42:30.999       2002-07-19 18:52:31                            186     Gatehouse, Church Strarmthorpe    4      10       10  ...                          51;                           48;                            48;                          51;                          48;                                     51;                                 50;                             51;                                      52;  1.0\n",
       "3         4                  4                  177;  2002-07-19 12:42:30.999       2002-07-19 20:52:31                            186       151 Linacre Road, London SE2    4       9       10  ...                          48;                           48;                            51;                          48;                          48;                                     51;                                 48;                             51;                                      48;  1.0\n",
       "4         5                  5                  177;  2002-07-19 12:42:30.999       2002-07-19 22:52:31                            186       73 Kings Road, North Ormesby    5       9       10  ...                          52;                           51;                            52;                          51;                          51;                                     51;                                 50;                             52;                                      51;  1.0\n",
       "\n",
       "[5 rows x 116 columns]"
      ]
     },
     "execution_count": 3,
     "metadata": {},
     "output_type": "execute_result"
    }
   ],
   "source": [
    "dataset.data().head()"
   ]
  },
  {
   "cell_type": "markdown",
   "metadata": {},
   "source": [
    ":::{note} \n",
    "When examining pandas dataframes, we often use the `pandas.DataFrame.head(n=5)` method which shows the top `n` rows of the dataframe. \n",
    ":::"
   ]
  },
  {
   "cell_type": "markdown",
   "metadata": {},
   "source": [
    "Tally mimics the pandas `[]` syntax. You can view one or more variable using this bracket syntax."
   ]
  },
  {
   "cell_type": "code",
   "execution_count": 4,
   "metadata": {},
   "outputs": [
    {
     "data": {
      "text/html": [
       "<div>\n",
       "<style scoped>\n",
       "    .dataframe tbody tr th:only-of-type {\n",
       "        vertical-align: middle;\n",
       "    }\n",
       "\n",
       "    .dataframe tbody tr th {\n",
       "        vertical-align: top;\n",
       "    }\n",
       "\n",
       "    .dataframe thead th {\n",
       "        text-align: right;\n",
       "    }\n",
       "</style>\n",
       "<table border=\"1\" class=\"dataframe\">\n",
       "  <thead>\n",
       "    <tr style=\"text-align: right;\">\n",
       "      <th></th>\n",
       "      <th>age</th>\n",
       "      <th>gender</th>\n",
       "    </tr>\n",
       "  </thead>\n",
       "  <tbody>\n",
       "    <tr>\n",
       "      <th>0</th>\n",
       "      <td>5</td>\n",
       "      <td>23</td>\n",
       "    </tr>\n",
       "    <tr>\n",
       "      <th>1</th>\n",
       "      <td>4</td>\n",
       "      <td>24</td>\n",
       "    </tr>\n",
       "    <tr>\n",
       "      <th>2</th>\n",
       "      <td>4</td>\n",
       "      <td>24</td>\n",
       "    </tr>\n",
       "    <tr>\n",
       "      <th>3</th>\n",
       "      <td>4</td>\n",
       "      <td>23</td>\n",
       "    </tr>\n",
       "    <tr>\n",
       "      <th>4</th>\n",
       "      <td>5</td>\n",
       "      <td>24</td>\n",
       "    </tr>\n",
       "  </tbody>\n",
       "</table>\n",
       "</div>"
      ],
      "text/plain": [
       "   age  gender\n",
       "0    5      23\n",
       "1    4      24\n",
       "2    4      24\n",
       "3    4      23\n",
       "4    5      24"
      ]
     },
     "execution_count": 4,
     "metadata": {},
     "output_type": "execute_result"
    }
   ],
   "source": [
    "dataset[['age', 'gender']].head()"
   ]
  },
  {
   "cell_type": "markdown",
   "metadata": {},
   "source": [
    "Tally supports grids/loops, which we call arrays. We can either view all data in an array by using it's name, or by referring to its individual columns."
   ]
  },
  {
   "cell_type": "code",
   "execution_count": 5,
   "metadata": {},
   "outputs": [
    {
     "data": {
      "text/html": [
       "<div>\n",
       "<style scoped>\n",
       "    .dataframe tbody tr th:only-of-type {\n",
       "        vertical-align: middle;\n",
       "    }\n",
       "\n",
       "    .dataframe tbody tr th {\n",
       "        vertical-align: top;\n",
       "    }\n",
       "\n",
       "    .dataframe thead th {\n",
       "        text-align: right;\n",
       "    }\n",
       "</style>\n",
       "<table border=\"1\" class=\"dataframe\">\n",
       "  <thead>\n",
       "    <tr style=\"text-align: right;\">\n",
       "      <th></th>\n",
       "      <th>rating_ent[{dinosaurs}].Column</th>\n",
       "      <th>rating_ent[{conservation}].Column</th>\n",
       "      <th>rating_ent[{fish_and_reptiles}].Column</th>\n",
       "      <th>rating_ent[{fossils}].Column</th>\n",
       "      <th>rating_ent[{birds}].Column</th>\n",
       "      <th>rating_ent[{insects}].Column</th>\n",
       "      <th>rating_ent[{whales}].Column</th>\n",
       "      <th>rating_ent[{mammals}].Column</th>\n",
       "      <th>rating_ent[{minerals}].Column</th>\n",
       "      <th>rating_ent[{ecology}].Column</th>\n",
       "      <th>rating_ent[{botany}].Column</th>\n",
       "      <th>rating_ent[{origin_of_species}].Column</th>\n",
       "      <th>rating_ent[{human_biology}].Column</th>\n",
       "      <th>rating_ent[{evolution}].Column</th>\n",
       "      <th>rating_ent[{wildlife_in_danger}].Column</th>\n",
       "    </tr>\n",
       "  </thead>\n",
       "  <tbody>\n",
       "    <tr>\n",
       "      <th>0</th>\n",
       "      <td>51;</td>\n",
       "      <td>48;</td>\n",
       "      <td>51;</td>\n",
       "      <td>48;</td>\n",
       "      <td>51;</td>\n",
       "      <td>51;</td>\n",
       "      <td>48;</td>\n",
       "      <td>49;</td>\n",
       "      <td>51;</td>\n",
       "      <td>48;</td>\n",
       "      <td>48;</td>\n",
       "      <td>51;</td>\n",
       "      <td>51;</td>\n",
       "      <td>51;</td>\n",
       "      <td>51;</td>\n",
       "    </tr>\n",
       "    <tr>\n",
       "      <th>1</th>\n",
       "      <td>51;</td>\n",
       "      <td>50;</td>\n",
       "      <td>50;</td>\n",
       "      <td>51;</td>\n",
       "      <td>50;</td>\n",
       "      <td>50;</td>\n",
       "      <td>51;</td>\n",
       "      <td>51;</td>\n",
       "      <td>52;</td>\n",
       "      <td>51;</td>\n",
       "      <td>51;</td>\n",
       "      <td>51;</td>\n",
       "      <td>50;</td>\n",
       "      <td>51;</td>\n",
       "      <td>51;</td>\n",
       "    </tr>\n",
       "    <tr>\n",
       "      <th>2</th>\n",
       "      <td>51;</td>\n",
       "      <td>49;</td>\n",
       "      <td>48;</td>\n",
       "      <td>50;</td>\n",
       "      <td>52;</td>\n",
       "      <td>48;</td>\n",
       "      <td>51;</td>\n",
       "      <td>48;</td>\n",
       "      <td>48;</td>\n",
       "      <td>51;</td>\n",
       "      <td>48;</td>\n",
       "      <td>51;</td>\n",
       "      <td>50;</td>\n",
       "      <td>51;</td>\n",
       "      <td>52;</td>\n",
       "    </tr>\n",
       "    <tr>\n",
       "      <th>3</th>\n",
       "      <td>52;</td>\n",
       "      <td>49;</td>\n",
       "      <td>51;</td>\n",
       "      <td>51;</td>\n",
       "      <td>48;</td>\n",
       "      <td>51;</td>\n",
       "      <td>48;</td>\n",
       "      <td>48;</td>\n",
       "      <td>51;</td>\n",
       "      <td>48;</td>\n",
       "      <td>48;</td>\n",
       "      <td>51;</td>\n",
       "      <td>48;</td>\n",
       "      <td>51;</td>\n",
       "      <td>48;</td>\n",
       "    </tr>\n",
       "    <tr>\n",
       "      <th>4</th>\n",
       "      <td>52;</td>\n",
       "      <td>49;</td>\n",
       "      <td>51;</td>\n",
       "      <td>51;</td>\n",
       "      <td>51;</td>\n",
       "      <td>51;</td>\n",
       "      <td>52;</td>\n",
       "      <td>51;</td>\n",
       "      <td>52;</td>\n",
       "      <td>51;</td>\n",
       "      <td>51;</td>\n",
       "      <td>51;</td>\n",
       "      <td>50;</td>\n",
       "      <td>52;</td>\n",
       "      <td>51;</td>\n",
       "    </tr>\n",
       "  </tbody>\n",
       "</table>\n",
       "</div>"
      ],
      "text/plain": [
       "  rating_ent[{dinosaurs}].Column rating_ent[{conservation}].Column rating_ent[{fish_and_reptiles}].Column rating_ent[{fossils}].Column rating_ent[{birds}].Column rating_ent[{insects}].Column rating_ent[{whales}].Column rating_ent[{mammals}].Column rating_ent[{minerals}].Column rating_ent[{ecology}].Column rating_ent[{botany}].Column rating_ent[{origin_of_species}].Column rating_ent[{human_biology}].Column rating_ent[{evolution}].Column rating_ent[{wildlife_in_danger}].Column\n",
       "0                            51;                               48;                                    51;                          48;                        51;                          51;                         48;                          49;                           51;                          48;                         48;                                    51;                                51;                            51;                                     51;\n",
       "1                            51;                               50;                                    50;                          51;                        50;                          50;                         51;                          51;                           52;                          51;                         51;                                    51;                                50;                            51;                                     51;\n",
       "2                            51;                               49;                                    48;                          50;                        52;                          48;                         51;                          48;                           48;                          51;                         48;                                    51;                                50;                            51;                                     52;\n",
       "3                            52;                               49;                                    51;                          51;                        48;                          51;                         48;                          48;                           51;                          48;                         48;                                    51;                                48;                            51;                                     48;\n",
       "4                            52;                               49;                                    51;                          51;                        51;                          51;                         52;                          51;                           52;                          51;                         51;                                    51;                                50;                            52;                                     51;"
      ]
     },
     "execution_count": 5,
     "metadata": {},
     "output_type": "execute_result"
    }
   ],
   "source": [
    "dataset['rating_ent.Column'].head()"
   ]
  },
  {
   "cell_type": "code",
   "execution_count": 6,
   "metadata": {},
   "outputs": [
    {
     "data": {
      "text/html": [
       "<div>\n",
       "<style scoped>\n",
       "    .dataframe tbody tr th:only-of-type {\n",
       "        vertical-align: middle;\n",
       "    }\n",
       "\n",
       "    .dataframe tbody tr th {\n",
       "        vertical-align: top;\n",
       "    }\n",
       "\n",
       "    .dataframe thead th {\n",
       "        text-align: right;\n",
       "    }\n",
       "</style>\n",
       "<table border=\"1\" class=\"dataframe\">\n",
       "  <thead>\n",
       "    <tr style=\"text-align: right;\">\n",
       "      <th></th>\n",
       "      <th>rating_ent[{dinosaurs}].Column</th>\n",
       "      <th>rating_ent[{conservation}].Column</th>\n",
       "    </tr>\n",
       "  </thead>\n",
       "  <tbody>\n",
       "    <tr>\n",
       "      <th>0</th>\n",
       "      <td>51;</td>\n",
       "      <td>48;</td>\n",
       "    </tr>\n",
       "    <tr>\n",
       "      <th>1</th>\n",
       "      <td>51;</td>\n",
       "      <td>50;</td>\n",
       "    </tr>\n",
       "    <tr>\n",
       "      <th>2</th>\n",
       "      <td>51;</td>\n",
       "      <td>49;</td>\n",
       "    </tr>\n",
       "    <tr>\n",
       "      <th>3</th>\n",
       "      <td>52;</td>\n",
       "      <td>49;</td>\n",
       "    </tr>\n",
       "    <tr>\n",
       "      <th>4</th>\n",
       "      <td>52;</td>\n",
       "      <td>49;</td>\n",
       "    </tr>\n",
       "  </tbody>\n",
       "</table>\n",
       "</div>"
      ],
      "text/plain": [
       "  rating_ent[{dinosaurs}].Column rating_ent[{conservation}].Column\n",
       "0                            51;                               48;\n",
       "1                            51;                               50;\n",
       "2                            51;                               49;\n",
       "3                            52;                               49;\n",
       "4                            52;                               49;"
      ]
     },
     "execution_count": 6,
     "metadata": {},
     "output_type": "execute_result"
    }
   ],
   "source": [
    "dataset[['rating_ent[{dinosaurs}].Column', 'rating_ent[{conservation}].Column']].head()"
   ]
  },
  {
   "cell_type": "markdown",
   "metadata": {},
   "source": [
    "### Storing case-data\n",
    "The case-data is stored as a parquet file, created with `pandas.DataFrame.to_parquet` (see the <a href=\"https://pandas.pydata.org/docs/reference/api/pandas.DataFrame.to_parquet.html\">pandas docs</a> for more)."
   ]
  },
  {
   "cell_type": "markdown",
   "metadata": {},
   "source": [
    "## meta-data"
   ]
  },
  {
   "cell_type": "markdown",
   "metadata": {},
   "source": [
    "Tally implements a meta-data schema to describe the data columns\n",
    "and provide additional information on the underlying structure of the data.\n",
    "\n",
    "The meta-data stores information on each column, e.g. variable type, labels, values. The meta-data stores information on how arrays (grids/loops) are composed, their labels etc. \n",
    "\n",
    "### meta-data structure\n",
    "The metadata document is saved to file as a json document, and in memory is stored in the `DataSet._meta` variable, a nested `dict`. We can examine the top-level keys like this:"
   ]
  },
  {
   "cell_type": "code",
   "execution_count": 7,
   "metadata": {},
   "outputs": [
    {
     "data": {
      "text/plain": [
       "dict_keys(['columns', 'info', 'lib', 'masks', 'sets', 'type'])"
      ]
     },
     "execution_count": 7,
     "metadata": {},
     "output_type": "execute_result"
    }
   ],
   "source": [
    "dataset._meta.keys()"
   ]
  },
  {
   "cell_type": "markdown",
   "metadata": {},
   "source": [
    "| element      | contains  | \n",
    "----------     |  ----------| \n",
    "| ``'columns'``|   info on ``DataFrame`` columns (types, labels, etc.)| \n",
    "| ``'info'``\t |   info on the source data| \n",
    "| ``'lib'``\t   | shared use references| \n",
    "| ``'masks'``  |   complex variable type definitions (arrays, dichotomous, etc.)|\n",
    "| ``'sets'``\t |   ordered groups of variables pointing to other parts of the meta| \n",
    "| ``'type'``\t |   case-data type| \n"
   ]
  },
  {
   "cell_type": "markdown",
   "metadata": {},
   "source": [
    "## `columns`\n",
    "Every column in the case-data dataset has a correspondeing key in this dictionary. If we look at the `gender` variable as an example, this is the meta-data stored in `columns`. "
   ]
  },
  {
   "cell_type": "code",
   "execution_count": 8,
   "metadata": {},
   "outputs": [
    {
     "name": "stdout",
     "output_type": "stream",
     "text": [
      "{'name': 'gender',\n",
      " 'parent': {},\n",
      " 'properties': {'LookName': 'Contemporary::1 Column Narrow:'},\n",
      " 'text': {'en-US': 'Gender of respondent',\n",
      "          'es-ES': 'Género del encuestado',\n",
      "          'ja-JP': '回答者の性別'},\n",
      " 'type': 'single',\n",
      " 'values': [{'properties': {},\n",
      "             'text': {'en-US': 'Male', 'es-ES': 'Masculino', 'ja-JP': '男性'},\n",
      "             'value': 23},\n",
      "            {'properties': {},\n",
      "             'text': {'en-US': 'Female', 'es-ES': 'Femenino', 'ja-JP': '女性'},\n",
      "             'value': 24}]}\n"
     ]
    }
   ],
   "source": [
    "pprint(dataset._meta['columns']['gender'])"
   ]
  },
  {
   "cell_type": "markdown",
   "metadata": {},
   "source": [
    "Columns that are part of an array (grid/loop) are also stored here. The array `rating_eng.Column` has 15 columns, `rating_ent[{dinosaurs}].Column`, `rating_ent[{biology}].Column`, etc. This is what one one of them looks like in the `columns` meta-data. "
   ]
  },
  {
   "cell_type": "code",
   "execution_count": 9,
   "metadata": {},
   "outputs": [
    {
     "name": "stdout",
     "output_type": "stream",
     "text": [
      "{'name': 'rating_ent[{dinosaurs}].Column',\n",
      " 'parent': {'masks@rating_ent.Column': {'type': 'array'}},\n",
      " 'properties': {'DisplayOrientation': 'Vertical'},\n",
      " 'text': {'en-US': 'Q46 - Dinosaurs',\n",
      "          'es-ES': 'P46 - Dinosaurios',\n",
      "          'ja-JP': '問46 - 恐竜'},\n",
      " 'type': 'delimited set',\n",
      " 'values': 'lib@values@rating_ent.Column'}\n"
     ]
    }
   ],
   "source": [
    "pprint(dataset._meta['columns']['rating_ent[{dinosaurs}].Column'])"
   ]
  },
  {
   "cell_type": "markdown",
   "metadata": {},
   "source": [
    "## `masks`\n",
    "Arrays are stored with what we call a `mask`. A mask is a \"virtual\" variable that is comprised of one or more columns. In this dataset we have four grid variables, and these are all stored in the `mask` part of the meta-data dict."
   ]
  },
  {
   "cell_type": "code",
   "execution_count": 10,
   "metadata": {},
   "outputs": [
    {
     "data": {
      "text/plain": [
       "dict_keys(['order.Column', 'plan_order.Column', 'rating.Column', 'rating_ent.Column'])"
      ]
     },
     "execution_count": 10,
     "metadata": {},
     "output_type": "execute_result"
    }
   ],
   "source": [
    "dataset._meta['masks'].keys()"
   ]
  },
  {
   "cell_type": "markdown",
   "metadata": {},
   "source": [
    "If we examine one of them more closely, we find:"
   ]
  },
  {
   "cell_type": "code",
   "execution_count": 11,
   "metadata": {},
   "outputs": [
    {
     "name": "stdout",
     "output_type": "stream",
     "text": [
      "{'items': [{'properties': {},\n",
      "            'source': 'columns@rating_ent[{dinosaurs}].Column',\n",
      "            'text': {'en-US': 'Dinosaurs',\n",
      "                     'es-ES': 'Dinosaurios',\n",
      "                     'ja-JP': '恐竜'}},\n",
      "           {'properties': {},\n",
      "            'source': 'columns@rating_ent[{conservation}].Column',\n",
      "            'text': {'en-US': 'Conservation',\n",
      "                     'es-ES': 'Conservación',\n",
      "                     'ja-JP': '保全'}},\n",
      "           {'properties': {},\n",
      "            'source': 'columns@rating_ent[{fish_and_reptiles}].Column',\n",
      "            'text': {'en-US': 'Fish and reptiles',\n",
      "                     'es-ES': 'Peces y reptiles',\n",
      "                     'ja-JP': '魚・両生類'}},\n",
      "           {'properties': {},\n",
      "            'source': 'columns@rating_ent[{fossils}].Column',\n",
      "            'text': {'en-US': 'Fossils', 'es-ES': 'Fósiles', 'ja-JP': '化石'}},\n",
      "           {'properties': {},\n",
      "            'source': 'columns@rating_ent[{birds}].Column',\n",
      "            'text': {'en-US': 'Birds', 'es-ES': 'Aves', 'ja-JP': '鳥類'}},\n",
      "           {'properties': {},\n",
      "            'source': 'columns@rating_ent[{insects}].Column',\n",
      "            'text': {'en-US': 'Insects', 'es-ES': 'Insectos', 'ja-JP': '昆虫'}},\n",
      "           {'properties': {},\n",
      "            'source': 'columns@rating_ent[{whales}].Column',\n",
      "            'text': {'en-US': 'Whales', 'es-ES': 'Ballenas', 'ja-JP': 'くじら'}},\n",
      "           {'properties': {},\n",
      "            'source': 'columns@rating_ent[{mammals}].Column',\n",
      "            'text': {'en-US': 'Mammals', 'es-ES': 'Mamíferos', 'ja-JP': '哺乳類'}},\n",
      "           {'properties': {},\n",
      "            'source': 'columns@rating_ent[{minerals}].Column',\n",
      "            'text': {'en-US': 'Minerals', 'es-ES': 'Minerales', 'ja-JP': '鉱物'}},\n",
      "           {'properties': {},\n",
      "            'source': 'columns@rating_ent[{ecology}].Column',\n",
      "            'text': {'en-US': 'Ecology', 'es-ES': 'Ecología', 'ja-JP': '生態'}},\n",
      "           {'properties': {},\n",
      "            'source': 'columns@rating_ent[{botany}].Column',\n",
      "            'text': {'en-US': 'Botany', 'es-ES': 'Botánica', 'ja-JP': '植物'}},\n",
      "           {'properties': {},\n",
      "            'source': 'columns@rating_ent[{origin_of_species}].Column',\n",
      "            'text': {'en-US': 'Origin of species',\n",
      "                     'es-ES': 'Origen de las especies',\n",
      "                     'ja-JP': '種の起源'}},\n",
      "           {'properties': {},\n",
      "            'source': 'columns@rating_ent[{human_biology}].Column',\n",
      "            'text': {'en-US': 'Human biology',\n",
      "                     'es-ES': 'Biología Humana',\n",
      "                     'ja-JP': 'ヒト生物学'}},\n",
      "           {'properties': {},\n",
      "            'source': 'columns@rating_ent[{evolution}].Column',\n",
      "            'text': {'en-US': 'Evolution',\n",
      "                     'es-ES': 'Evolución',\n",
      "                     'ja-JP': '進化'}},\n",
      "           {'properties': {},\n",
      "            'source': 'columns@rating_ent[{wildlife_in_danger}].Column',\n",
      "            'text': {'en-US': 'Wildlife in danger',\n",
      "                     'es-ES': 'Vida silvestre en peligro de extinción',\n",
      "                     'ja-JP': '絶滅の危機に瀕している野生動物'}}],\n",
      " 'properties': {'LookName': 'Contemporary::Horizontal Grid:'},\n",
      " 'subtype': 'delimited set',\n",
      " 'text': {'en-US': 'Q46', 'es-ES': 'P46', 'ja-JP': '問46'},\n",
      " 'type': 'array',\n",
      " 'values': 'lib@values@rating_ent.Column'}\n"
     ]
    }
   ],
   "source": [
    "pprint(dataset._meta['masks']['rating_ent.Column'])"
   ]
  },
  {
   "cell_type": "markdown",
   "metadata": {},
   "source": [
    "## `lib` - values shared between columns and arrays\n",
    "Both the `rating_ent.Column` meta-data in the previous section, and the meta-data for one of its variables as explored in the `columns` section above, have a reference to `lib@values@rating_ent.Column`.\n",
    "\n",
    "This means that the values for the array (and thereby the column in the array) are stored in the `lib` section of the meta-data.\n",
    "\n",
    "If we examine the `lib` section of the meta-data, we see the following keys."
   ]
  },
  {
   "cell_type": "code",
   "execution_count": 12,
   "metadata": {},
   "outputs": [
    {
     "data": {
      "text/plain": [
       "dict_keys(['ddf_categorymap', 'default text', 'values'])"
      ]
     },
     "execution_count": 12,
     "metadata": {},
     "output_type": "execute_result"
    }
   ],
   "source": [
    "dataset._meta['lib'].keys()"
   ]
  },
  {
   "cell_type": "markdown",
   "metadata": {},
   "source": [
    "### `values`\n",
    "The `values` dict contains information about values that are accessed from many masks and/or columns. For example, we previously saw a reference to `lib@values@rating_ent.Column`, which is this"
   ]
  },
  {
   "cell_type": "code",
   "execution_count": 13,
   "metadata": {},
   "outputs": [
    {
     "name": "stdout",
     "output_type": "stream",
     "text": [
      "[{'factor': 1.0,\n",
      "  'properties': {},\n",
      "  'text': {'en-US': 'Not at all interested (1)',\n",
      "           'es-ES': 'No me interesa para nada (1)',\n",
      "           'ja-JP': '全く興味がない (1)'},\n",
      "  'value': 48},\n",
      " {'factor': 2.0,\n",
      "  'properties': {},\n",
      "  'text': {'en-US': 'Not particularly interested (2)',\n",
      "           'es-ES': 'No me interesa en particular (2)',\n",
      "           'ja-JP': '特に興味はない (2)'},\n",
      "  'value': 49},\n",
      " {'factor': 3.0,\n",
      "  'properties': {},\n",
      "  'text': {'en-US': 'No opinion (3)',\n",
      "           'es-ES': 'No tengo opinión',\n",
      "           'ja-JP': 'どちらでもない (3)'},\n",
      "  'value': 50},\n",
      " {'factor': 4.0,\n",
      "  'properties': {},\n",
      "  'text': {'en-US': 'Slightly interested (4)',\n",
      "           'es-ES': 'Me interesa un poco',\n",
      "           'ja-JP': '少し興味がある (4)'},\n",
      "  'value': 51},\n",
      " {'factor': 5.0,\n",
      "  'properties': {},\n",
      "  'text': {'en-US': 'Very interested (5)',\n",
      "           'es-ES': 'Me interesa mucho',\n",
      "           'ja-JP': '非常に興味がある (5)'},\n",
      "  'value': 52}]\n"
     ]
    }
   ],
   "source": [
    "pprint(dataset._meta['lib']['values']['rating_ent.Column'])"
   ]
  },
  {
   "cell_type": "markdown",
   "metadata": {},
   "source": [
    "### `ddf_categorymap`\n",
    "The ddf_categorymap is only applicaple for Dimensions files, and stores the <categorymap> data as a dict.\n",
    "\n",
    "This categorymap in dimensions\n",
    "```\n",
    "<categorymap>\n",
    "  <categoryid name=\"e1116_years\" value=\"1\"/>\n",
    "  <categoryid name=\"e1720_years\" value=\"2\"/>\n",
    "  <categoryid name=\"e2124_years\" value=\"3\"/>\n",
    "  ...\n",
    "```\n",
    "would map to this dict in `ddf_categorymap`\n",
    "\n",
    "```\n",
    "{\n",
    "  \"e1116_years\":\"1\",\n",
    "  \"e1720_years\":\"2\",\n",
    "  \"e2124_years\":\"3\",\n",
    "  ...\n",
    "}\n",
    "```"
   ]
  },
  {
   "cell_type": "markdown",
   "metadata": {},
   "source": [
    "### `default_text`\n",
    "\n",
    "The `default_text` key stores the name of the default language used if nothing else is specified. If we look at the default text for this dataset, it's US English."
   ]
  },
  {
   "cell_type": "code",
   "execution_count": 14,
   "metadata": {},
   "outputs": [
    {
     "data": {
      "text/plain": [
       "'en-US'"
      ]
     },
     "execution_count": 14,
     "metadata": {},
     "output_type": "execute_result"
    }
   ],
   "source": [
    "dataset._meta['lib']['default text']"
   ]
  },
  {
   "cell_type": "markdown",
   "metadata": {},
   "source": [
    "So, when we ask for the meta-data (or run a crosstab, or do anything that accepts a `text_key` parameter) we get US english as the default labels."
   ]
  },
  {
   "cell_type": "code",
   "execution_count": 15,
   "metadata": {},
   "outputs": [
    {
     "data": {
      "text/html": [
       "<div>\n",
       "<style scoped>\n",
       "    .dataframe tbody tr th:only-of-type {\n",
       "        vertical-align: middle;\n",
       "    }\n",
       "\n",
       "    .dataframe tbody tr th {\n",
       "        vertical-align: top;\n",
       "    }\n",
       "\n",
       "    .dataframe thead th {\n",
       "        text-align: right;\n",
       "    }\n",
       "</style>\n",
       "<table border=\"1\" class=\"dataframe\">\n",
       "  <thead>\n",
       "    <tr style=\"text-align: right;\">\n",
       "      <th>single</th>\n",
       "      <th>codes</th>\n",
       "      <th>texts</th>\n",
       "      <th>missing</th>\n",
       "    </tr>\n",
       "    <tr>\n",
       "      <th>gender: Gender of respondent</th>\n",
       "      <th></th>\n",
       "      <th></th>\n",
       "      <th></th>\n",
       "    </tr>\n",
       "  </thead>\n",
       "  <tbody>\n",
       "    <tr>\n",
       "      <th>1</th>\n",
       "      <td>23</td>\n",
       "      <td>Male</td>\n",
       "      <td>None</td>\n",
       "    </tr>\n",
       "    <tr>\n",
       "      <th>2</th>\n",
       "      <td>24</td>\n",
       "      <td>Female</td>\n",
       "      <td>None</td>\n",
       "    </tr>\n",
       "  </tbody>\n",
       "</table>\n",
       "</div>"
      ],
      "text/plain": [
       "single                        codes   texts missing\n",
       "gender: Gender of respondent                       \n",
       "1                                23    Male    None\n",
       "2                                24  Female    None"
      ]
     },
     "execution_count": 15,
     "metadata": {},
     "output_type": "execute_result"
    }
   ],
   "source": [
    "dataset.meta('gender')"
   ]
  },
  {
   "cell_type": "markdown",
   "metadata": {},
   "source": [
    "But if we supply another text key, we get a label from another language."
   ]
  },
  {
   "cell_type": "code",
   "execution_count": 16,
   "metadata": {},
   "outputs": [
    {
     "data": {
      "text/html": [
       "<div>\n",
       "<style scoped>\n",
       "    .dataframe tbody tr th:only-of-type {\n",
       "        vertical-align: middle;\n",
       "    }\n",
       "\n",
       "    .dataframe tbody tr th {\n",
       "        vertical-align: top;\n",
       "    }\n",
       "\n",
       "    .dataframe thead th {\n",
       "        text-align: right;\n",
       "    }\n",
       "</style>\n",
       "<table border=\"1\" class=\"dataframe\">\n",
       "  <thead>\n",
       "    <tr style=\"text-align: right;\">\n",
       "      <th>single</th>\n",
       "      <th>codes</th>\n",
       "      <th>texts</th>\n",
       "      <th>missing</th>\n",
       "    </tr>\n",
       "    <tr>\n",
       "      <th>gender: Género del encuestado</th>\n",
       "      <th></th>\n",
       "      <th></th>\n",
       "      <th></th>\n",
       "    </tr>\n",
       "  </thead>\n",
       "  <tbody>\n",
       "    <tr>\n",
       "      <th>1</th>\n",
       "      <td>23</td>\n",
       "      <td>Masculino</td>\n",
       "      <td>None</td>\n",
       "    </tr>\n",
       "    <tr>\n",
       "      <th>2</th>\n",
       "      <td>24</td>\n",
       "      <td>Femenino</td>\n",
       "      <td>None</td>\n",
       "    </tr>\n",
       "  </tbody>\n",
       "</table>\n",
       "</div>"
      ],
      "text/plain": [
       "single                         codes      texts missing\n",
       "gender: Género del encuestado                          \n",
       "1                                 23  Masculino    None\n",
       "2                                 24   Femenino    None"
      ]
     },
     "execution_count": 16,
     "metadata": {},
     "output_type": "execute_result"
    }
   ],
   "source": [
    "dataset.meta('gender', text_key='es-ES')"
   ]
  },
  {
   "cell_type": "markdown",
   "metadata": {},
   "source": [
    "## `sets`, `info` and `type`\n",
    "The `sets` is an ordered group of variables that links to all valid variables. This is used to list the variables, store the order of the variables etc.\n",
    "\n",
    "`info` stores basic information about the origins of the `DataSet`.\n",
    "\n",
    "`type` currently only shows `pandas.DataFrame` and is a legacy variable, not currently used."
   ]
  }
 ],
 "metadata": {
  "kernelspec": {
   "display_name": ".venv",
   "language": "python",
   "name": "python3"
  },
  "language_info": {
   "codemirror_mode": {
    "name": "ipython",
    "version": 3
   },
   "file_extension": ".py",
   "mimetype": "text/x-python",
   "name": "python",
   "nbconvert_exporter": "python",
   "pygments_lexer": "ipython3",
   "version": "3.10.10"
  },
  "orig_nbformat": 4
 },
 "nbformat": 4,
 "nbformat_minor": 2
}
